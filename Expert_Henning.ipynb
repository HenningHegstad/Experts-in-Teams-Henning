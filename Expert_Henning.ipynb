{
 "cells": [
  {
   "cell_type": "code",
   "execution_count": 1,
   "metadata": {},
   "outputs": [],
   "source": [
    "using Gridap\n",
    "using GridapMakie, CairoMakie, FileIO\n",
    "using Gridap.FESpaces\n",
    "using Gridap.ReferenceFEs\n",
    "using Gridap.Arrays\n",
    "using Gridap.Algebra\n",
    "using Gridap.Geometry\n",
    "using Gridap.Fields\n",
    "using Gridap.CellData\n",
    "using FillArrays\n",
    "using Test\n",
    "using InteractiveUtils"
   ]
  },
  {
   "cell_type": "code",
   "execution_count": 2,
   "metadata": {},
   "outputs": [
    {
     "ename": "SystemError",
     "evalue": "SystemError: opening file \"c:\\\\NTNU\\\\_Kurse TA\\\\Optimierung 2\\\\Julia_functions\\\\solution_animation.jl\": No such file or directory",
     "output_type": "error",
     "traceback": [
      "SystemError: opening file \"c:\\\\NTNU\\\\_Kurse TA\\\\Optimierung 2\\\\Julia_functions\\\\solution_animation.jl\": No such file or directory\n",
      "\n",
      "Stacktrace:\n",
      "  [1] systemerror(p::String, errno::Int32; extrainfo::Nothing)\n",
      "    @ Base .\\error.jl:176\n",
      "  [2] systemerror\n",
      "    @ Base .\\error.jl:175 [inlined]\n",
      "  [3] open(fname::String; lock::Bool, read::Nothing, write::Nothing, create::Nothing, truncate::Nothing, append::Nothing)\n",
      "    @ Base .\\iostream.jl:293\n",
      "  [4] open\n",
      "    @ Base .\\iostream.jl:275 [inlined]\n",
      "  [5] open(f::Base.var\"#433#434\"{String}, args::String; kwargs::@Kwargs{})\n",
      "    @ Base .\\io.jl:394\n",
      "  [6] open\n",
      "    @ Base .\\io.jl:393 [inlined]\n",
      "  [7] read\n",
      "    @ Base .\\io.jl:486 [inlined]\n",
      "  [8] _include(mapexpr::Function, mod::Module, _path::String)\n",
      "    @ Base .\\loading.jl:2126\n",
      "  [9] include(fname::String)\n",
      "    @ Base.MainInclude .\\client.jl:489\n",
      " [10] top-level scope\n",
      "    @ c:\\NTNU\\_Kurse TA\\Optimierung 2\\jl_notebook_cell_df34fa98e69747e1a8f8a730347b8e2f_W1sZmlsZQ==.jl:1"
     ]
    }
   ],
   "source": [
    "include(\"Julia_functions/solution_animation.jl\")\n",
    "include(\"Julia_functions/indicator_chi.jl\")"
   ]
  },
  {
   "cell_type": "code",
   "execution_count": 4,
   "metadata": {},
   "outputs": [
    {
     "data": {
      "text/plain": [
       "draw (generic function with 1 method)"
      ]
     },
     "metadata": {},
     "output_type": "display_data"
    }
   ],
   "source": [
    "domain = (0,1,0,1)\n",
    "partition = (100,100)\n",
    "model = CartesianDiscreteModel(domain,partition) #|> simplexify\n",
    "order = 1\n",
    "reffe = ReferenceFE(lagrangian,Float64,order)\n",
    "Testspace = TestFESpace(model,reffe,conformity=:H1) ###### conformity correct?\n",
    "Trialspace = TransientTrialFESpace(Testspace)                                # maybe add a function for/if Dirichlet conditions\n",
    "\n",
    "Uspace = FESpace(model, reffe, conformity=:H1)\n",
    "\n",
    "degree = 2*order                                                    # degree of the method used for approximating integrals over Ω\n",
    "Ω = Triangulation(model)\n",
    "dΩ = Measure(Ω,degree)      \t\t\t\t\t\t\t\t\t\t# make the measure dΩ\n",
    "Γ = BoundaryTriangulation(model)                                    # triangulate the boundary ∂Ω\n",
    "dΓ = Measure(Γ,degree)   \n",
    "\n",
    "χ(x,a,b)= a≤x≤b ? 1.0 : 0.0\n",
    "\n",
    "q_pos(x) = χ(x[1], 0.9, 0.85) * χ(x[2], 0, 0.20)\n",
    "\n",
    "ρ=1.0 #1.225\n",
    "c = 1.0# c=1020.0\n",
    "k = 1.0#1.0# k=15.0\n",
    "h = 0.5# h=0.7\n",
    "Tout(x,t)= 0.0*x[1]\n",
    "Q(x,t) = 0.0#x[1] + x[2] #0.0#10.0*q_pos(x)\n",
    "Tini(x) = 20.0 #1.0 * x[1] + 10.0\n",
    "t0=0.0\n",
    "tF=1.0\n",
    "TIni=interpolate_everywhere(Tini, Uspace(t0))\n",
    "Tfin=interpolate_everywhere(20.0, Uspace(tF))\n",
    "Δt = 0.001\n",
    "\n",
    "function draw(ysol)\n",
    "\tfig, _ , plt = CairoMakie.plot(Ω, ysol, colormap=:plasma)               # plot of last state (numerical solution)\n",
    "\tCairoMakie.wireframe!(Ω, color=:black, linewidth=1)                        # add triangulation\n",
    "\tCairoMakie.Colorbar(fig[1,2], plt)                                         # add color bar\n",
    "\tdisplay(fig)\t\t\t\t\t\t\t\t\t\t\t\t\t\t\t  # display the plot\n",
    "end\n",
    "#draw(TIni)\n"
   ]
  },
  {
   "cell_type": "code",
   "execution_count": 6,
   "metadata": {},
   "outputs": [],
   "source": [
    "ls = LUSolver()\n",
    "θ = 0.5\n",
    "solver = ThetaMethod(ls, Δt, θ)\n",
    "\n",
    "Q(t)=x->Q(x,t)\n",
    "Tout(t)=x->Tout(x,t)\n",
    "\n",
    "a_SE_tconst(t, dtT, ϕ) = ∫(c*dtT*ϕ*ρ)dΩ\n",
    "# a_SE_tnonconst(t, T, ϕ) = (1)*∫(k * ∇(T) ⋅ ∇(ϕ) - tr(h*T*ϕ))dΩ\n",
    "a_SE_tnonconst(t, T, ϕ) = ∫(k * ∇(T)⊙∇(ϕ))dΩ - ∫(h*T*ϕ)dΓ\n",
    "\n",
    "\n",
    "l_SE(t, ϕ) = ∫(Q(t) * ϕ)dΩ - ∫(Tout(t) * ϕ * h)dΓ\n",
    "\n",
    "op_SE = TransientLinearFEOperator((a_SE_tconst, a_SE_tnonconst), l_SE, Trialspace, Testspace, constant_forms=(true, true))\n",
    "\n",
    "T = solve(solver, op_SE, t0, tF, TIni)\n",
    "\n",
    "sol = []\n",
    "count = 0\n",
    "for (tn, uhn) in T\n",
    "    if count%5 == 0\n",
    "        push!(sol,uhn)\n",
    "    end\n",
    "    count += 1\n",
    "    \n",
    "end\n"
   ]
  },
  {
   "cell_type": "code",
   "execution_count": 7,
   "metadata": {},
   "outputs": [
    {
     "data": {
      "text/plain": [
       "1002-element Vector{String}:\n",
       " \"results2.pvd\"\n",
       " \"tmp2/results_0.vtu\"\n",
       " \"tmp2/results_0.001.vtu\"\n",
       " \"tmp2/results_0.002.vtu\"\n",
       " \"tmp2/results_0.003.vtu\"\n",
       " \"tmp2/results_0.004.vtu\"\n",
       " \"tmp2/results_0.005.vtu\"\n",
       " \"tmp2/results_0.006.vtu\"\n",
       " \"tmp2/results_0.007.vtu\"\n",
       " \"tmp2/results_0.008.vtu\"\n",
       " ⋮\n",
       " \"tmp2/results_0.9920000000000008.vtu\"\n",
       " \"tmp2/results_0.9930000000000008.vtu\"\n",
       " \"tmp2/results_0.9940000000000008.vtu\"\n",
       " \"tmp2/results_0.9950000000000008.vtu\"\n",
       " \"tmp2/results_0.9960000000000008.vtu\"\n",
       " \"tmp2/results_0.9970000000000008.vtu\"\n",
       " \"tmp2/results_0.9980000000000008.vtu\"\n",
       " \"tmp2/results_0.9990000000000008.vtu\"\n",
       " \"tmp2/results_1.0000000000000007.vtu\""
      ]
     },
     "metadata": {},
     "output_type": "display_data"
    }
   ],
   "source": [
    "if !isdir(\"tmp2\")\n",
    "    mkdir(\"tmp2\")\n",
    "  end\n",
    "  \n",
    "  createpvd(\"results2\") do pvd\n",
    "    pvd[0] = createvtk(Ω, \"tmp2/results_0\" * \".vtu\", cellfields=[\"u\" => TIni])\n",
    "    for (tn, uhn) in T\n",
    "      pvd[tn] = createvtk(Ω, \"tmp2/results_$tn\" * \".vtu\", cellfields=[\"u\" => uhn])\n",
    "    end\n",
    "  end"
   ]
  },
  {
   "cell_type": "code",
   "execution_count": 5,
   "metadata": {},
   "outputs": [
    {
     "ename": "UndefVarError",
     "evalue": "UndefVarError: `sol` not defined",
     "output_type": "error",
     "traceback": [
      "UndefVarError: `sol` not defined\n",
      "\n",
      "Stacktrace:\n",
      " [1] top-level scope\n",
      "   @ c:\\NTNU\\_Kurse TA\\Optimierung 2\\jl_notebook_cell_df34fa98e69747e1a8f8a730347b8e2f_W5sZmlsZQ==.jl:1"
     ]
    }
   ],
   "source": [
    "fig, ax, hm = plot(sol[1])\n",
    "Colorbar(fig[1,2], hm)\n",
    "display(fig)"
   ]
  },
  {
   "cell_type": "code",
   "execution_count": 149,
   "metadata": {},
   "outputs": [],
   "source": [
    "#solution_animation(sol,30)"
   ]
  },
  {
   "cell_type": "code",
   "execution_count": 138,
   "metadata": {},
   "outputs": [],
   "source": []
  },
  {
   "cell_type": "code",
   "execution_count": 139,
   "metadata": {},
   "outputs": [],
   "source": []
  }
 ],
 "metadata": {
  "kernelspec": {
   "display_name": "Julia 1.10.0",
   "language": "julia",
   "name": "julia-1.10"
  },
  "language_info": {
   "file_extension": ".jl",
   "mimetype": "application/julia",
   "name": "julia",
   "version": "1.10.0"
  }
 },
 "nbformat": 4,
 "nbformat_minor": 2
}
