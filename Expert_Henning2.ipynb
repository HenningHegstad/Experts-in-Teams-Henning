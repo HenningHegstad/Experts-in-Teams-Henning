{
 "cells": [
  {
   "cell_type": "code",
   "execution_count": 1,
   "metadata": {},
   "outputs": [
    {
     "data": {
      "text/plain": [
       "CartesianDiscreteModel()"
      ]
     },
     "metadata": {},
     "output_type": "display_data"
    }
   ],
   "source": [
    "using Gridap\n",
    "domain = (-1, +1, -1, +1)\n",
    "partition = (20, 20)\n",
    "model = CartesianDiscreteModel(domain, partition)"
   ]
  },
  {
   "cell_type": "code",
   "execution_count": 2,
   "metadata": {},
   "outputs": [],
   "source": [
    "# include(\"Julia_functions/solution_animation.jl\")\n",
    "# include(\"Julia_functions/indicator_chi.jl\")"
   ]
  },
  {
   "cell_type": "code",
   "execution_count": 3,
   "metadata": {},
   "outputs": [
    {
     "data": {
      "text/plain": [
       "χ (generic function with 1 method)"
      ]
     },
     "metadata": {},
     "output_type": "display_data"
    }
   ],
   "source": [
    "function χ(x, a, b)\n",
    "    if a < x && x < b\n",
    "        return 1\n",
    "    else\n",
    "        return 0\n",
    "    end\n",
    "end"
   ]
  },
  {
   "cell_type": "code",
   "execution_count": 6,
   "metadata": {},
   "outputs": [
    {
     "data": {
      "text/plain": [
       "GenericTransientFESolution()"
      ]
     },
     "metadata": {},
     "output_type": "display_data"
    }
   ],
   "source": [
    "order = 1\n",
    "reffe = ReferenceFE(lagrangian, Float64, order)\n",
    "V0 = TestFESpace(model, reffe, conformity=:H1)\n",
    "\n",
    "Ug = TransientTrialFESpace(V0)\n",
    "\n",
    "degree = 2\n",
    "Ω = Triangulation(model)\n",
    "dΩ = Measure(Ω, degree)\n",
    "\n",
    "Γ = BoundaryTriangulation(model)                        # triangulate the boundary ∂Ω\n",
    "dΓ = Measure(Γ,degree)  \n",
    "\n",
    "\n",
    "q_pos(x) = χ(x[1], -0.9, -0.7) * χ(x[2], 0, 0.20) + χ(x[1], 0.2, 0.4) * χ(x[2], -0.5, 0)\n",
    "\n",
    "α(t) = x -> 1.0\n",
    "f(t) = x -> 0.0\n",
    "Tout(x,t)= 4.0\n",
    "Tout(t)=x->Tout(x,t)\n",
    "\n",
    "# ∫ ̇u*v-∇⋅(α(t)∇u)*v dΩ = ∫ Qv dΩ , -∫ α(t)∇u⋅n*v dΓ = ∫ (Tout(t)-u) v dΓ\n",
    "m(t, dtu, v) = ∫(v * dtu)dΩ\n",
    "a(t, u, v) = ∫(α(t) * ∇(v) ⋅ ∇(u))dΩ + ∫(u*v)dΓ\n",
    "l(t, v) = ∫(q_pos*v * f(t))dΩ + ∫(Tout(t) * v)dΓ\n",
    "\n",
    "op = TransientLinearFEOperator((a, m), l, Ug, V0)\n",
    "\n",
    "op_opt = TransientLinearFEOperator((a, m), l, Ug, V0, constant_forms=(true, true))\n",
    "\n",
    "ls = LUSolver()\n",
    "Δt = 0.01\n",
    "θ = 0.5\n",
    "solver = ThetaMethod(ls, Δt, θ)\n",
    "\n",
    "t0, tF = 0.0, 10.0\n",
    "uh0 = interpolate_everywhere(20.0, Ug(t0))\n",
    "uh = solve(solver, op, t0, tF, uh0)"
   ]
  },
  {
   "cell_type": "code",
   "execution_count": 7,
   "metadata": {},
   "outputs": [
    {
     "data": {
      "text/plain": [
       "1003-element Vector{String}:\n",
       " \"results.pvd\"\n",
       " \"tmp/results_0.vtu\"\n",
       " \"tmp/results_0.01.vtu\"\n",
       " \"tmp/results_0.02.vtu\"\n",
       " \"tmp/results_0.03.vtu\"\n",
       " \"tmp/results_0.04.vtu\"\n",
       " \"tmp/results_0.05.vtu\"\n",
       " \"tmp/results_0.060000000000000005.vtu\"\n",
       " \"tmp/results_0.07.vtu\"\n",
       " \"tmp/results_0.08.vtu\"\n",
       " ⋮\n",
       " \"tmp/results_9.929999999999833.vtu\"\n",
       " \"tmp/results_9.939999999999833.vtu\"\n",
       " \"tmp/results_9.949999999999832.vtu\"\n",
       " \"tmp/results_9.959999999999832.vtu\"\n",
       " \"tmp/results_9.969999999999832.vtu\"\n",
       " \"tmp/results_9.979999999999832.vtu\"\n",
       " \"tmp/results_9.989999999999831.vtu\"\n",
       " \"tmp/results_9.999999999999831.vtu\"\n",
       " \"tmp/results_10.009999999999831.vtu\""
      ]
     },
     "metadata": {},
     "output_type": "display_data"
    }
   ],
   "source": [
    "if !isdir(\"tmp\")\n",
    "    mkdir(\"tmp\")\n",
    "  end\n",
    "  \n",
    "  createpvd(\"results\") do pvd\n",
    "    pvd[0] = createvtk(Ω, \"tmp/results_0\" * \".vtu\", cellfields=[\"u\" => uh0])\n",
    "    for (tn, uhn) in uh\n",
    "      pvd[tn] = createvtk(Ω, \"tmp/results_$tn\" * \".vtu\", cellfields=[\"u\" => uhn])\n",
    "    end\n",
    "  end"
   ]
  },
  {
   "cell_type": "code",
   "execution_count": null,
   "metadata": {},
   "outputs": [],
   "source": []
  }
 ],
 "metadata": {
  "kernelspec": {
   "display_name": "Julia 1.10.0",
   "language": "julia",
   "name": "julia-1.10"
  },
  "language_info": {
   "file_extension": ".jl",
   "mimetype": "application/julia",
   "name": "julia",
   "version": "1.10.0"
  }
 },
 "nbformat": 4,
 "nbformat_minor": 2
}
